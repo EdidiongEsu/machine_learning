{
 "cells": [
  {
   "cell_type": "code",
   "execution_count": 1,
   "metadata": {},
   "outputs": [],
   "source": [
    "import os\n",
    "import io\n",
    "import numpy\n",
    "from pandas import DataFrame\n",
    "from sklearn.feature_extraction.text import CountVectorizer\n",
    "from sklearn.naive_bayes import MultinomialNB"
   ]
  },
  {
   "cell_type": "code",
   "execution_count": 2,
   "metadata": {},
   "outputs": [
    {
     "name": "stderr",
     "output_type": "stream",
     "text": [
      "C:\\Users\\ru\\Anaconda3\\lib\\site-packages\\pandas\\core\\frame.py:6211: FutureWarning: Sorting because non-concatenation axis is not aligned. A future version\n",
      "of pandas will change to not sort by default.\n",
      "\n",
      "To accept the future behavior, pass 'sort=False'.\n",
      "\n",
      "To retain the current behavior and silence the warning, pass 'sort=True'.\n",
      "\n",
      "  sort=sort)\n"
     ]
    }
   ],
   "source": [
    "def readFiles(path):\n",
    "    for root, dirnames, filenames in os.walk(path):\n",
    "        for filename in filenames:\n",
    "            path = os.path.join(root, filename)\n",
    "\n",
    "            inBody = False\n",
    "            lines = []\n",
    "            f = io.open(path, 'r', encoding='latin1')\n",
    "            for line in f:\n",
    "                if inBody:\n",
    "                    lines.append(line)\n",
    "                elif line == '\\n':\n",
    "                    inBody = True\n",
    "            f.close()\n",
    "            message = '\\n'.join(lines)\n",
    "            yield path, message\n",
    "\n",
    "\n",
    "def dataFrameFromDirectory(path, classification):\n",
    "    rows = []\n",
    "    index = []\n",
    "    for filename, message in readFiles(path):\n",
    "        rows.append({'message': message, 'class': classification})\n",
    "        index.append(filename)\n",
    "\n",
    "    return DataFrame(rows, index=index)\n",
    "\n",
    "data = DataFrame({'message': [], 'class': []})\n",
    "\n",
    "data = data.append(dataFrameFromDirectory(r'C:\\Users\\ru\\Desktop\\Programming\\Machine learning2\\Naive Bayes\\emails', 'spam'))\n",
    "data = data.append(dataFrameFromDirectory(r'C:\\Users\\ru\\Desktop\\Programming\\Machine learning2\\Naive Bayes\\emails', 'ham'))\n"
   ]
  },
  {
   "cell_type": "code",
   "execution_count": 3,
   "metadata": {},
   "outputs": [
    {
     "data": {
      "text/html": [
       "<div>\n",
       "<style scoped>\n",
       "    .dataframe tbody tr th:only-of-type {\n",
       "        vertical-align: middle;\n",
       "    }\n",
       "\n",
       "    .dataframe tbody tr th {\n",
       "        vertical-align: top;\n",
       "    }\n",
       "\n",
       "    .dataframe thead th {\n",
       "        text-align: right;\n",
       "    }\n",
       "</style>\n",
       "<table border=\"1\" class=\"dataframe\">\n",
       "  <thead>\n",
       "    <tr style=\"text-align: right;\">\n",
       "      <th></th>\n",
       "      <th>class</th>\n",
       "      <th>message</th>\n",
       "    </tr>\n",
       "  </thead>\n",
       "  <tbody>\n",
       "    <tr>\n",
       "      <th>C:\\Users\\ru\\Desktop\\Programming\\Machine learning2\\Naive Bayes\\emails\\ham\\00001.7c53336b37003a9286aba55d2945844c</th>\n",
       "      <td>spam</td>\n",
       "      <td>Date:        Wed, 21 Aug 2002 10:54:46 -05...</td>\n",
       "    </tr>\n",
       "    <tr>\n",
       "      <th>C:\\Users\\ru\\Desktop\\Programming\\Machine learning2\\Naive Bayes\\emails\\ham\\00002.9c4069e25e1ef370c078db7ee85ff9ac</th>\n",
       "      <td>spam</td>\n",
       "      <td>Martin A posted:\\n\\nTassos Papadopoulos, the G...</td>\n",
       "    </tr>\n",
       "    <tr>\n",
       "      <th>C:\\Users\\ru\\Desktop\\Programming\\Machine learning2\\Naive Bayes\\emails\\ham\\00003.860e3c3cee1b42ead714c5c874fe25f7</th>\n",
       "      <td>spam</td>\n",
       "      <td>Man Threatens Explosion In Moscow \\n\\n\\n\\nThur...</td>\n",
       "    </tr>\n",
       "    <tr>\n",
       "      <th>C:\\Users\\ru\\Desktop\\Programming\\Machine learning2\\Naive Bayes\\emails\\ham\\00004.864220c5b6930b209cc287c361c99af1</th>\n",
       "      <td>spam</td>\n",
       "      <td>Klez: The Virus That Won't Die\\n\\n \\n\\nAlready...</td>\n",
       "    </tr>\n",
       "    <tr>\n",
       "      <th>C:\\Users\\ru\\Desktop\\Programming\\Machine learning2\\Naive Bayes\\emails\\ham\\00005.bf27cdeaf0b8c4647ecd61b1d09da613</th>\n",
       "      <td>spam</td>\n",
       "      <td>&gt;  in adding cream to spaghetti carbonara, whi...</td>\n",
       "    </tr>\n",
       "  </tbody>\n",
       "</table>\n",
       "</div>"
      ],
      "text/plain": [
       "                                                   class  \\\n",
       "C:\\Users\\ru\\Desktop\\Programming\\Machine learnin...  spam   \n",
       "C:\\Users\\ru\\Desktop\\Programming\\Machine learnin...  spam   \n",
       "C:\\Users\\ru\\Desktop\\Programming\\Machine learnin...  spam   \n",
       "C:\\Users\\ru\\Desktop\\Programming\\Machine learnin...  spam   \n",
       "C:\\Users\\ru\\Desktop\\Programming\\Machine learnin...  spam   \n",
       "\n",
       "                                                                                              message  \n",
       "C:\\Users\\ru\\Desktop\\Programming\\Machine learnin...      Date:        Wed, 21 Aug 2002 10:54:46 -05...  \n",
       "C:\\Users\\ru\\Desktop\\Programming\\Machine learnin...  Martin A posted:\\n\\nTassos Papadopoulos, the G...  \n",
       "C:\\Users\\ru\\Desktop\\Programming\\Machine learnin...  Man Threatens Explosion In Moscow \\n\\n\\n\\nThur...  \n",
       "C:\\Users\\ru\\Desktop\\Programming\\Machine learnin...  Klez: The Virus That Won't Die\\n\\n \\n\\nAlready...  \n",
       "C:\\Users\\ru\\Desktop\\Programming\\Machine learnin...  >  in adding cream to spaghetti carbonara, whi...  "
      ]
     },
     "execution_count": 3,
     "metadata": {},
     "output_type": "execute_result"
    }
   ],
   "source": [
    "data.head()"
   ]
  },
  {
   "cell_type": "code",
   "execution_count": 4,
   "metadata": {},
   "outputs": [
    {
     "data": {
      "text/plain": [
       "MultinomialNB(alpha=1.0, class_prior=None, fit_prior=True)"
      ]
     },
     "execution_count": 4,
     "metadata": {},
     "output_type": "execute_result"
    }
   ],
   "source": [
    "vectorizer = CountVectorizer()\n",
    "counts = vectorizer.fit_transform(data['message'].values)\n",
    "\n",
    "classifier = MultinomialNB()\n",
    "targets = data['class'].values\n",
    "classifier.fit(counts, targets)"
   ]
  },
  {
   "cell_type": "code",
   "execution_count": 7,
   "metadata": {},
   "outputs": [
    {
     "data": {
      "text/plain": [
       "array(['ham'], dtype='<U4')"
      ]
     },
     "execution_count": 7,
     "metadata": {},
     "output_type": "execute_result"
    }
   ],
   "source": [
    "examples = ['Free Viagra now!!!']\n",
    "example_counts = vectorizer.transform(examples)\n",
    "predictions = classifier.predict(example_counts)\n",
    "predictions"
   ]
  },
  {
   "cell_type": "code",
   "execution_count": null,
   "metadata": {},
   "outputs": [],
   "source": []
  }
 ],
 "metadata": {
  "kernelspec": {
   "display_name": "Python 3",
   "language": "python",
   "name": "python3"
  },
  "language_info": {
   "codemirror_mode": {
    "name": "ipython",
    "version": 3
   },
   "file_extension": ".py",
   "mimetype": "text/x-python",
   "name": "python",
   "nbconvert_exporter": "python",
   "pygments_lexer": "ipython3",
   "version": "3.7.1"
  }
 },
 "nbformat": 4,
 "nbformat_minor": 2
}
